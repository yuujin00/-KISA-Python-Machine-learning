{
 "cells": [
  {
   "cell_type": "code",
   "execution_count": 6,
   "id": "8a440ace-85d6-4ca4-bf81-a278315d8612",
   "metadata": {},
   "outputs": [],
   "source": [
    "from selenium import webdriver"
   ]
  },
  {
   "cell_type": "code",
   "execution_count": 9,
   "id": "cbd7e40b-15b6-4ff7-81ef-34c233468f3f",
   "metadata": {},
   "outputs": [],
   "source": [
    "browser = webdriver.Chrome()"
   ]
  },
  {
   "cell_type": "code",
   "execution_count": 25,
   "id": "28a803b2-e3fa-4c09-ad04-6445d06bfa87",
   "metadata": {},
   "outputs": [],
   "source": [
    "#browser.get('https://naver.com')\n",
    "url = 'https://n.news.naver.com/mnews/article/009/0005302951?sid=105'\n",
    "browser.get(url)"
   ]
  },
  {
   "cell_type": "code",
   "execution_count": 21,
   "id": "8f1d421b-4a2b-4694-9c04-fff9195b20dc",
   "metadata": {},
   "outputs": [],
   "source": [
    "# 주석 : ctrl + /\n",
    "#browser.page_source # --> HTML"
   ]
  },
  {
   "cell_type": "code",
   "execution_count": 23,
   "id": "37257d17-4bef-4d8f-841b-a3d55558a2d4",
   "metadata": {},
   "outputs": [],
   "source": [
    "# 1. <태그> </태그> 태그 안에 원하는(찾고자하는) 글이 보임.\n",
    "# 2. <태그명> </태그명>  ex) <a> </a>\n",
    "# 3. <태그명 속성=값 속성2=값2> </태그명>\n",
    "# 4. 태그 안에 하위 태그 존재 (상하관계 / 부모자식)"
   ]
  },
  {
   "cell_type": "code",
   "execution_count": 33,
   "id": "36ae6832-6daf-42bb-b281-56ad553b91ba",
   "metadata": {},
   "outputs": [],
   "source": [
    "#type(browser.page_source) --> str 그렇기 때문에 html인지 할 수 있는 라이브러리 가져와야함.\n",
    "#from bs4 import BeautifulSoup"
   ]
  },
  {
   "cell_type": "code",
   "execution_count": 29,
   "id": "b6427cdc-8e0f-48d1-b264-a88e6c870d55",
   "metadata": {},
   "outputs": [],
   "source": [
    "from bs4 import BeautifulSoup"
   ]
  },
  {
   "cell_type": "code",
   "execution_count": 37,
   "id": "3af91c4f-e1bf-4f93-9b2c-537364a25504",
   "metadata": {},
   "outputs": [],
   "source": [
    "#BeautifulSoup(데이터, 'html.parser')\n",
    "soup = BeautifulSoup(browser.page_source, 'html.parser')"
   ]
  },
  {
   "cell_type": "code",
   "execution_count": 89,
   "id": "2b42721f-b858-4b21-8671-71b9cc79b23e",
   "metadata": {},
   "outputs": [
    {
     "name": "stdout",
     "output_type": "stream",
     "text": [
      "1\n",
      "오픈AI, 음성비서 ‘GPT-4o’ 발표 “실시간 통역에 노래까지 부른다”\n"
     ]
    }
   ],
   "source": [
    "#option1\n",
    "# 태크 찾기 : soup.select('태그조건')\n",
    "# select 다수 결과는 리스트 그룹으로 보여줌. : []\n",
    "#tag_list=soup.select('span') #태그명 : span\n",
    "#tag_list=soup.select('h2 > span') #부모 태그 > 태그명\n",
    "\n",
    "#option2\n",
    "#tag_list=soup.select('#title_area > span') #부모 속성 > 태그명  속성 : #id값\n",
    "\n",
    "#option3\n",
    "tag_list=soup.select('.media_end_head_headline > span') #부모 속성 > 태그명  속성 : .class값\n",
    "\n",
    "# 원소의 개수 len : length \n",
    "print(len(tag_list))\n",
    "tag_list\n",
    "tag=tag_list[0]\n",
    "title = tag.text # 태그 없애기 = text만 받기\n",
    "print(title)"
   ]
  },
  {
   "cell_type": "code",
   "execution_count": 121,
   "id": "a476dc91-e305-4d28-8bb1-762fe5ffa534",
   "metadata": {},
   "outputs": [
    {
     "name": "stdout",
     "output_type": "stream",
     "text": [
      "텍스트·비전·오디오 통합\n",
      "\n",
      "\n",
      "\n",
      " GPT-4o오픈AI가 텍스트, 비전, 오디오를 통합한 멀티모달 모델 ‘GPT-4o’를 온라인을 통해 14일 발표했다.GPT-4o는 기존 GPT-4 모델을 기반으로 하며, 전 세계 50개 언어를 지원한다. 이번 발표에서는 15개 언어가 추가됐다. 미라 무라티 오픈AI 최고기술책임자는 “챗GPT는 현재 1억 명이 사용하는 AI 솔루션이며, 97%의 세계 시민을 커버하는 50개 언어로 제공된다”며 “이번에 추가된 15개 언어를 통해 더욱 많은 사람들이 AI 기술을 활용할 수 있을 것”이라고 밝혔다.또 GPT-4o의 API는 이전 모델인 GPT-4보다 2배 더 빠르고 2배 더 저렴하다.핵심은 음성 기능 강화다. 텍스트 비디오 이미지를 업로드하면 대화할 수 있고, 음성과 음성 대화도 가능하다. 종전에는 음성과 음성 연결이 불가능했다. 말을 하면, 챗GPT가 문장을 입력하는 정도였다. 하지만 이번에는 음성을 입력하면 챗GPT가 음성을 출력했다.예를 들어, 오늘 날씨를 물으면 실시간으로 알려준다. 또 실시간 통역 역시 가능하다. 아울러 수학, 영화, 여행 등 다양한 분야에 적용할 수 있다. 소프트웨어 엔지니어는 코드를 입력해 이상 유무를 확인하고, 문제점을 음성으로 교정받을 수도 있다.GPT-4o는 다양한 AI 엔진을 통합해 진정한 AI 에이전트가 될 것으로 보인다. 특히 AR 글래스나 디바이스 산업을 바꿀 수 있다. 메타가 AI 에이전트 접목을 시도하고 있는데, GPT-4o의 등장으로 경쟁이 심화될 것으로 예상된다.\n"
     ]
    }
   ],
   "source": [
    "#실습 : 본문찾기\n",
    "tag_list = soup.select('article')\n",
    "tag=tag_list[0]\n",
    "content=tag.text.strip() # strip : 앞뒤 공백 제거\n",
    "content  #줄바꿈 등 기호 보임\n",
    "print(content) #줄바꿈 등 기호 안보임"
   ]
  },
  {
   "cell_type": "code",
   "execution_count": 141,
   "id": "511e85ef-1a51-4c99-b3b8-fe67c8aa2e5a",
   "metadata": {},
   "outputs": [
    {
     "name": "stdout",
     "output_type": "stream",
     "text": [
      "‘갤럭시AI’로 비수기 선방…Z플립·폴드6로 하반기 공략\n",
      "2분기 모바일 매출 27조원 추정AI폰 흥행 지속하며 성장세 회복신기능 탑재 AI 폴더블폰 내주 공개수익성은 감소···AP 자립 사활[서울경제] 삼성전자(005930)가 올해 2분기 모바일 사업에서도 선방한 것으로 분석된다. 2분기는 스마트폰 신제품이 나오지 않는 비수기로 꼽히지만 삼성전자가 인공지능(AI)폰 전략을 통해 매출 성장을 회복한 것으로 보인다. 회사는 하반기 ‘AI 폴더블폰’ 출시를 통해 이 같은 전략을 강화할 방침이다.\n",
      "\n",
      "\n",
      "\n",
      "삼성전자 갤럭시Z플립·폴드5. 사진 제공=삼성전자5일 증권업계에 따르면 삼성전자 모바일경험(MX)·네트워크(NW) 사업부는 올해 2분기 약 27조 원의 매출을 거둔 것으로 추정된다. 스마트폰 판매 중심의 이 사업 매출은 2022년 2분기 29조 3400억 원에서 지난해 동기 25조 5500억 원으로 13% 줄었다가 1년 만인 올해 다시 성장세를 회복해 6% 가까이 늘었다는 분석이다.정보기술(IT) 업계는 전 세계 스마트폰 시장의 성장세 회복과 함께 삼성전자가 올 초 출시한 첫 AI폰 ‘갤럭시S24’ 시리즈가 2분기에도 흥행을 이어간 것으로 분석했다. 갤럭시S24는 삼성전자의 생성형 AI ‘갤럭시 AI’를 탑재해 실시간 전화 통역, 문자 메시지와 웹사이트 번역·요약 등을 지원한다. 연간 판매량이 8년 만에 역대 최대인 3600만 대에 달할 것이라는 증권업계 전망이 나왔고 실제로 1분기에 판매량을 경신하며 초반 흥행에 성공했다.‘갤럭시Z플립6’와 ‘갤럭시Z폴드6’ 역시 삼성전자 첫 AI 폴더블폰으로 기대를 모으는 가운데 이달 중순 출시를 앞두고 이동통신사들에 일부 물량이 납품되면서 2분기 말부터 매출이 발생한 것으로 전해졌다. 삼성전자는 10일(현지시간) 올림픽 개최를 앞둔 프랑스 파리에서 갤럭시 언팩(신제품 공개 행사)을 열고 두 제품을 공개한다.삼성전자는 이를 통해 애플과 중국 제조사들이 적극 가세하는 하반기 AI폰 경쟁에서 주도권을 유지한다는 방침이다. 갤럭시Z플립·폴드6는 갤럭시 AI 기능을 폴더블폰 대화면에 맞게 최적화하고 신기능 추가 가능성도 있다. 업계에서는 S펜으로 대충 그린 그림을 고품질 이미지로 바꿔주는 기능, 내부뿐 아니라 외부 화면에도 번역 텍스트를 표시해 외국인 상대가 이를 보고 쉽게 대화할 수 있도록 하는 기능 등이 추가될 가능성이 제기된다. 웨어러블(착용형) 신제품인 ‘갤럭시워치7’과 ‘갤럭시링’도 헬스케어(건강관리) 기능을 중심으로 AI폰과의 연동이 강화된다.MX·NW 사업부는 2분기 매출 성장에도 불구하고 영업이익은 2조 1000억 원 수준으로 전년 동기 대비 약 30% 감소했을 것으로 추정된다. 증권사들은 반도체 가격 인상의 여파로 분석했다. 실제로 핵심부품인 모바일 애플리케이션프로세서(AP·두뇌칩) 비용은 지난해보다 올해 1분기 8% 상승했으며, 내년 ‘갤럭시S25’에 쓰일 퀄컴의 신형 AP도 두자릿수 가격 인상 가능성이 제기됐다. 삼성전자는 자체 AP 엑시노스 탑재 등으로 부품 수급을 다각화해 비용 증가에 대응할 전망이다.\n"
     ]
    }
   ],
   "source": [
    "url = 'https://n.news.naver.com/mnews/article/011/0004362504'\n",
    "browser.get(url)\n",
    "soup=BeautifulSoup(browser.page_source,'html.parser')\n",
    "\n",
    "title=soup.select('h2>span')[0].text\n",
    "content=soup.select('article')[0].text.strip() \n",
    "#len(content)\n",
    "print(title)\n",
    "print(content)"
   ]
  },
  {
   "cell_type": "code",
   "execution_count": 139,
   "id": "471477f2-81d8-49f5-b19a-8525f58a555e",
   "metadata": {},
   "outputs": [
    {
     "name": "stdout",
     "output_type": "stream",
     "text": [
      "오픈AI, 음성비서 ‘GPT-4o’ 발표 “실시간 통역에 노래까지 부른다”\n",
      "텍스트·비전·오디오 통합\n",
      "\n",
      "\n",
      "\n",
      " GPT-4o오픈AI가 텍스트, 비전, 오디오를 통합한 멀티모달 모델 ‘GPT-4o’를 온라인을 통해 14일 발표했다.GPT-4o는 기존 GPT-4 모델을 기반으로 하며, 전 세계 50개 언어를 지원한다. 이번 발표에서는 15개 언어가 추가됐다. 미라 무라티 오픈AI 최고기술책임자는 “챗GPT는 현재 1억 명이 사용하는 AI 솔루션이며, 97%의 세계 시민을 커버하는 50개 언어로 제공된다”며 “이번에 추가된 15개 언어를 통해 더욱 많은 사람들이 AI 기술을 활용할 수 있을 것”이라고 밝혔다.또 GPT-4o의 API는 이전 모델인 GPT-4보다 2배 더 빠르고 2배 더 저렴하다.핵심은 음성 기능 강화다. 텍스트 비디오 이미지를 업로드하면 대화할 수 있고, 음성과 음성 대화도 가능하다. 종전에는 음성과 음성 연결이 불가능했다. 말을 하면, 챗GPT가 문장을 입력하는 정도였다. 하지만 이번에는 음성을 입력하면 챗GPT가 음성을 출력했다.예를 들어, 오늘 날씨를 물으면 실시간으로 알려준다. 또 실시간 통역 역시 가능하다. 아울러 수학, 영화, 여행 등 다양한 분야에 적용할 수 있다. 소프트웨어 엔지니어는 코드를 입력해 이상 유무를 확인하고, 문제점을 음성으로 교정받을 수도 있다.GPT-4o는 다양한 AI 엔진을 통합해 진정한 AI 에이전트가 될 것으로 보인다. 특히 AR 글래스나 디바이스 산업을 바꿀 수 있다. 메타가 AI 에이전트 접목을 시도하고 있는데, GPT-4o의 등장으로 경쟁이 심화될 것으로 예상된다.\n"
     ]
    }
   ],
   "source": [
    "url = 'https://n.news.naver.com/mnews/article/009/0005302951?sid=105'\n",
    "browser.get(url)\n",
    "soup=BeautifulSoup(browser.page_source,'html.parser')\n",
    "\n",
    "title=soup.select('h2>span')[0].text\n",
    "content=soup.select('article')[0].text.strip() \n",
    "#len(content)\n",
    "print(title)\n",
    "print(content)"
   ]
  },
  {
   "cell_type": "code",
   "execution_count": null,
   "id": "e26a335b-ec5e-49d5-9ac3-673e852919ce",
   "metadata": {},
   "outputs": [],
   "source": []
  }
 ],
 "metadata": {
  "kernelspec": {
   "display_name": "Python 3 (ipykernel)",
   "language": "python",
   "name": "python3"
  },
  "language_info": {
   "codemirror_mode": {
    "name": "ipython",
    "version": 3
   },
   "file_extension": ".py",
   "mimetype": "text/x-python",
   "name": "python",
   "nbconvert_exporter": "python",
   "pygments_lexer": "ipython3",
   "version": "3.12.4"
  }
 },
 "nbformat": 4,
 "nbformat_minor": 5
}
