{
 "cells": [
  {
   "cell_type": "code",
   "execution_count": null,
   "id": "f94a41c0-d7b4-4f84-ba2f-7fe3ce32549c",
   "metadata": {},
   "outputs": [],
   "source": [
    "#아나콘다 = 파이썬 + 쥬피터 노트북 + 주요한 라이브러리 \n",
    "#주피터 노트북 \n",
    "#   - 브라우저에서.. --> 클릭/이미지/드래그\n",
    "#   - 셀 단위로 입력 / 실행(shift + enter).\n",
    "# 셀 추가 : a : above/b : below\n",
    "# 셀 삭제 : dd"
   ]
  },
  {
   "cell_type": "code",
   "execution_count": 9,
   "id": "f12dc78e-8277-432e-8931-3b40f7ab9919",
   "metadata": {},
   "outputs": [
    {
     "name": "stdout",
     "output_type": "stream",
     "text": [
      "5\n"
     ]
    }
   ],
   "source": [
    "# 변수 = 값\n",
    "a = 5\n",
    "print(a)"
   ]
  },
  {
   "cell_type": "code",
   "execution_count": 13,
   "id": "6b47181f-49f7-414f-832a-6f3d27765aaf",
   "metadata": {},
   "outputs": [
    {
     "name": "stdout",
     "output_type": "stream",
     "text": [
      "10\n",
      "3\n"
     ]
    }
   ],
   "source": [
    "b=10\n",
    "print(b)\n",
    "b=3\n",
    "print(b)"
   ]
  },
  {
   "cell_type": "code",
   "execution_count": 17,
   "id": "41e9f5a0-b568-4187-9265-e1c171f8ff89",
   "metadata": {},
   "outputs": [
    {
     "name": "stdout",
     "output_type": "stream",
     "text": [
      "10\n",
      "10\n"
     ]
    }
   ],
   "source": [
    "b=10\n",
    "print(b)\n",
    "#b=3\n",
    "print(b)"
   ]
  },
  {
   "cell_type": "code",
   "execution_count": 25,
   "id": "f1bc1560-13d1-4b8f-8bcd-0bc29df32621",
   "metadata": {},
   "outputs": [
    {
     "name": "stdout",
     "output_type": "stream",
     "text": [
      "13\n",
      "7\n",
      "30\n",
      "3.3333333333333335\n",
      "3\n",
      "1\n"
     ]
    }
   ],
   "source": [
    "c=10\n",
    "d=3\n",
    "print(c+d)\n",
    "print(c-d)\n",
    "print(c*d)\n",
    "print(c/d)\n",
    "print(c//d) # 몫\n",
    "print(c%d)  # 나머지"
   ]
  },
  {
   "cell_type": "code",
   "execution_count": 27,
   "id": "635ee47f-4dea-482d-b420-a6aa4a6e05ff",
   "metadata": {},
   "outputs": [
    {
     "name": "stdout",
     "output_type": "stream",
     "text": [
      "권유진\n"
     ]
    },
    {
     "data": {
      "text/plain": [
       "str"
      ]
     },
     "execution_count": 27,
     "metadata": {},
     "output_type": "execute_result"
    }
   ],
   "source": [
    "name='권유진'\n",
    "print(name)\n",
    "type(name) #str : string (문자열)"
   ]
  },
  {
   "cell_type": "code",
   "execution_count": 33,
   "id": "010ad815-dedd-4955-b701-842c3644a968",
   "metadata": {},
   "outputs": [
    {
     "name": "stdout",
     "output_type": "stream",
     "text": [
      "산토끼\n",
      "토끼산\n",
      "산토끼 토끼야 어디를 가느냐\n"
     ]
    }
   ],
   "source": [
    "c1='산'\n",
    "c2='토끼'\n",
    "print(c1+c2)\n",
    "print(c2+c1)\n",
    "print(c1+c2+' '+c2+'야 어디를 가느냐')"
   ]
  },
  {
   "cell_type": "code",
   "execution_count": 41,
   "id": "eb2c8555-e504-49b2-947c-98ad1446d5b7",
   "metadata": {},
   "outputs": [
    {
     "name": "stdout",
     "output_type": "stream",
     "text": [
      "--------------------------------------------------\n"
     ]
    }
   ],
   "source": [
    "msg='-'+'-'+'-'+'-'+'-'\n",
    "msg='-'*10\n",
    "print(msg*5)"
   ]
  },
  {
   "cell_type": "code",
   "execution_count": 77,
   "id": "63a0ce8c-7589-4c59-8211-7f20bb41b16e",
   "metadata": {},
   "outputs": [
    {
     "name": "stdout",
     "output_type": "stream",
     "text": [
      "['예뻤어', '여름아부탁해', '한숨', '하입보이', '좋은날', '야생화']\n",
      "하입보이\n",
      "좋은날\n"
     ]
    }
   ],
   "source": [
    "# 리스트, 딕셔너리 = json, 튜플\n",
    "song_list = ['예뻤어','여름아부탁해','한숨','하입보이','좋은날','야생화']\n",
    "song= song_list[3]\n",
    "song1=song_list[-2]\n",
    "print(song_list)\n",
    "print(song)\n",
    "print(song1)"
   ]
  },
  {
   "cell_type": "code",
   "execution_count": 141,
   "id": "4d122a76-54e2-4891-83a3-a82270603ded",
   "metadata": {},
   "outputs": [
    {
     "name": "stdout",
     "output_type": "stream",
     "text": [
      "예뻤어\n",
      "예뻤어\n",
      "----------------------------------------------------------------------\n",
      "여름아부탁해\n",
      "----------------------------------------------------------------------\n",
      "한숨\n",
      "----------------------------------------------------------------------\n",
      "하입보이\n",
      "----------------------------------------------------------------------\n",
      "좋은날\n",
      "----------------------------------------------------------------------\n",
      "예뻤어\n",
      "여름아부탁해\n",
      "한숨\n",
      "하입보이\n",
      "좋은날\n"
     ]
    }
   ],
   "source": [
    "song_list = ['예뻤어','여름아부탁해','한숨','하입보이','좋은날']\n",
    "song= song_list[0]\n",
    "print(song)\n",
    "\n",
    "for song in song_list: \n",
    "    print(song)\n",
    "    print('-'*70)\n",
    "\n",
    "for i in range(0,5) : print(song_list[i])"
   ]
  },
  {
   "cell_type": "code",
   "execution_count": 113,
   "id": "09a6f748-6d6d-4796-a246-ca9e939a34b3",
   "metadata": {},
   "outputs": [
    {
     "name": "stdout",
     "output_type": "stream",
     "text": [
      "좋은날\n"
     ]
    }
   ],
   "source": [
    "print(song)"
   ]
  },
  {
   "cell_type": "code",
   "execution_count": 153,
   "id": "b874d66f-df2b-4616-8f3c-b216c83cc8c9",
   "metadata": {},
   "outputs": [
    {
     "name": "stdout",
     "output_type": "stream",
     "text": [
      "예뻤어\n",
      "여름아부탁해\n",
      "한숨\n"
     ]
    }
   ],
   "source": [
    "song_list[0:3]\n",
    "\n",
    "for song in song_list[0:3]:\n",
    "    print(song)"
   ]
  },
  {
   "cell_type": "code",
   "execution_count": 169,
   "id": "e3cc24f4-254d-46fd-9ad8-4b3640900c78",
   "metadata": {},
   "outputs": [
    {
     "name": "stdout",
     "output_type": "stream",
     "text": [
      "안녕하세요 권유진님, xxx 서비스에 가입해주셔서 감사합니다.\n"
     ]
    }
   ],
   "source": [
    "name = '권유진'\n",
    "msg=f'안녕하세요 {name}님, xxx 서비스에 가입해주셔서 감사합니다.'\n",
    "\n",
    "print(msg)\n"
   ]
  },
  {
   "cell_type": "code",
   "execution_count": 191,
   "id": "55103016-d50e-4748-add3-ce8f9b0ae9fe",
   "metadata": {},
   "outputs": [
    {
     "name": "stdout",
     "output_type": "stream",
     "text": [
      "안녕하세요 a님, xxx 서비스에 가입해주셔서 감사합니다.\n",
      "안녕하세요 b님, xxx 서비스에 가입해주셔서 감사합니다.\n",
      "안녕하세요 c님, xxx 서비스에 가입해주셔서 감사합니다.\n",
      "안녕하세요 d님, xxx 서비스에 가입해주셔서 감사합니다.\n"
     ]
    }
   ],
   "source": [
    "customer_list =['a','b','c','d']\n",
    "for name in customer_list : \n",
    "    print(f'안녕하세요 {name}님, xxx 서비스에 가입해주셔서 감사합니다.')"
   ]
  },
  {
   "cell_type": "code",
   "execution_count": 193,
   "id": "11ca0acc-6311-4cea-865d-f7d7d9fab131",
   "metadata": {},
   "outputs": [],
   "source": [
    "import time"
   ]
  },
  {
   "cell_type": "code",
   "execution_count": 199,
   "id": "c27c142c-4614-4a0d-bcb2-2aa083bcf520",
   "metadata": {},
   "outputs": [],
   "source": [
    "#import 라이브러리명\n",
    "#from 라이브러리명 import 명령어\n",
    "#pip install 라이브러리명\n",
    "#! pip install selenium\n",
    "# from selenium import webdriver"
   ]
  },
  {
   "cell_type": "code",
   "execution_count": 198,
   "id": "d05c2fd1-f9d5-45a3-89ab-8cf441bd161c",
   "metadata": {},
   "outputs": [
    {
     "name": "stdout",
     "output_type": "stream",
     "text": [
      "Requirement already satisfied: selenium in c:\\users\\yujin\\anaconda3\\lib\\site-packages (4.22.0)\n",
      "Requirement already satisfied: urllib3<3,>=1.26 in c:\\users\\yujin\\anaconda3\\lib\\site-packages (from urllib3[socks]<3,>=1.26->selenium) (2.2.2)\n",
      "Requirement already satisfied: trio~=0.17 in c:\\users\\yujin\\anaconda3\\lib\\site-packages (from selenium) (0.25.1)\n",
      "Requirement already satisfied: trio-websocket~=0.9 in c:\\users\\yujin\\anaconda3\\lib\\site-packages (from selenium) (0.11.1)\n",
      "Requirement already satisfied: certifi>=2021.10.8 in c:\\users\\yujin\\anaconda3\\lib\\site-packages (from selenium) (2024.6.2)\n",
      "Requirement already satisfied: typing_extensions>=4.9.0 in c:\\users\\yujin\\anaconda3\\lib\\site-packages (from selenium) (4.11.0)\n",
      "Requirement already satisfied: websocket-client>=1.8.0 in c:\\users\\yujin\\anaconda3\\lib\\site-packages (from selenium) (1.8.0)\n",
      "Requirement already satisfied: attrs>=23.2.0 in c:\\users\\yujin\\anaconda3\\lib\\site-packages (from trio~=0.17->selenium) (23.2.0)\n",
      "Requirement already satisfied: sortedcontainers in c:\\users\\yujin\\anaconda3\\lib\\site-packages (from trio~=0.17->selenium) (2.4.0)\n",
      "Requirement already satisfied: idna in c:\\users\\yujin\\anaconda3\\lib\\site-packages (from trio~=0.17->selenium) (3.7)\n",
      "Requirement already satisfied: outcome in c:\\users\\yujin\\anaconda3\\lib\\site-packages (from trio~=0.17->selenium) (1.3.0.post0)\n",
      "Requirement already satisfied: sniffio>=1.3.0 in c:\\users\\yujin\\anaconda3\\lib\\site-packages (from trio~=0.17->selenium) (1.3.0)\n",
      "Requirement already satisfied: cffi>=1.14 in c:\\users\\yujin\\anaconda3\\lib\\site-packages (from trio~=0.17->selenium) (1.16.0)\n",
      "Requirement already satisfied: wsproto>=0.14 in c:\\users\\yujin\\anaconda3\\lib\\site-packages (from trio-websocket~=0.9->selenium) (1.2.0)\n",
      "Requirement already satisfied: pysocks!=1.5.7,<2.0,>=1.5.6 in c:\\users\\yujin\\anaconda3\\lib\\site-packages (from urllib3[socks]<3,>=1.26->selenium) (1.7.1)\n",
      "Requirement already satisfied: pycparser in c:\\users\\yujin\\anaconda3\\lib\\site-packages (from cffi>=1.14->trio~=0.17->selenium) (2.21)\n",
      "Requirement already satisfied: h11<1,>=0.9.0 in c:\\users\\yujin\\anaconda3\\lib\\site-packages (from wsproto>=0.14->trio-websocket~=0.9->selenium) (0.14.0)\n"
     ]
    }
   ],
   "source": [
    "! pip install selenium"
   ]
  },
  {
   "cell_type": "code",
   "execution_count": 202,
   "id": "6161c9e2-e5f9-4ccd-adb2-bef9b14bb9a8",
   "metadata": {},
   "outputs": [],
   "source": [
    "from selenium import webdriver"
   ]
  },
  {
   "cell_type": "code",
   "execution_count": 204,
   "id": "ae1abd1f-2e3a-4dc0-9555-01151a60cd6f",
   "metadata": {},
   "outputs": [
    {
     "data": {
      "text/plain": [
       "<selenium.webdriver.chrome.webdriver.WebDriver (session=\"641847981fe7c34579c528bcc1922d8b\")>"
      ]
     },
     "execution_count": 204,
     "metadata": {},
     "output_type": "execute_result"
    }
   ],
   "source": [
    "webdriver.Chrome()"
   ]
  },
  {
   "cell_type": "code",
   "execution_count": null,
   "id": "28730137-853f-4f22-ace9-d54fb63a9ed9",
   "metadata": {},
   "outputs": [],
   "source": []
  }
 ],
 "metadata": {
  "kernelspec": {
   "display_name": "Python 3 (ipykernel)",
   "language": "python",
   "name": "python3"
  },
  "language_info": {
   "codemirror_mode": {
    "name": "ipython",
    "version": 3
   },
   "file_extension": ".py",
   "mimetype": "text/x-python",
   "name": "python",
   "nbconvert_exporter": "python",
   "pygments_lexer": "ipython3",
   "version": "3.12.4"
  }
 },
 "nbformat": 4,
 "nbformat_minor": 5
}
